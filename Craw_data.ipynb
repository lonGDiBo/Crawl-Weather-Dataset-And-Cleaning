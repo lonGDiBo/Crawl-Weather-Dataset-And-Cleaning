{
 "cells": [
  {
   "cell_type": "markdown",
   "metadata": {},
   "source": [
    "### <center>Craw Data<center>"
   ]
  },
  {
   "cell_type": "code",
   "execution_count": 1,
   "metadata": {},
   "outputs": [],
   "source": [
    "import requests\n",
    "from bs4 import BeautifulSoup\n",
    "import pandas as pd\n",
    "import os\n",
    "import urllib.request # download the file"
   ]
  },
  {
   "cell_type": "code",
   "execution_count": 2,
   "metadata": {},
   "outputs": [],
   "source": [
    "url = 'https://www.bgc-jena.mpg.de/wetter/weather_data.html'\n",
    "page = requests.get(url)\n",
    "if page.status_code == 200: # 200 means OK\n",
    "    soup = BeautifulSoup(page.content, 'html.parser')\n",
    "else:\n",
    "    print('Error')"
   ]
  },
  {
   "cell_type": "code",
   "execution_count": 11,
   "metadata": {},
   "outputs": [
    {
     "data": {
      "text/plain": [
       "<td align=\"center\" valign=\"top\" width=\"33%\">\n",
       "<a href=\"mpi_roof.zip\">ZIP-file 01.07.2023 up to today</a><br>\n",
       "<a href=\"mpi_roof_2023a.zip\">ZIP-file 01.01.2023 to 30.06.2023</a><br>\n",
       "<a href=\"mpi_roof_2022b.zip\">ZIP-file 01.07.2022 to 31.12.2022</a><br>\n",
       "<a href=\"mpi_roof_2022a.zip\">ZIP-file 01.01.2022 to 30.06.2022</a><br>\n",
       "<a href=\"mpi_roof_2021b.zip\">ZIP-file 01.07.2021 to 31.12.2021</a><br/>\n",
       "<a href=\"mpi_roof_2021a.zip\">ZIP-file 01.01.2021 to 30.06.2021</a><br/>\n",
       "<a href=\"mpi_roof_2020b.zip\">ZIP-file 01.07.2020 to 31.12.2020</a><br/>\n",
       "<a href=\"mpi_roof_2020a.zip\">ZIP-file 01.01.2020 to 30.06.2020</a><br/>\n",
       "<a href=\"mpi_roof_2019b.zip\">ZIP-file 01.07.2019 to 31.12.2019</a><br/>\n",
       "<a href=\"mpi_roof_2019a.zip\">ZIP-file 01.01.2019 to 30.06.2019</a><br/>\n",
       "<a href=\"mpi_roof_2018b.zip\">ZIP-file 01.07.2018 to 31.12.2018</a><br/>\n",
       "<a href=\"mpi_roof_2018a.zip\">ZIP-file 01.01.2018 to 30.06.2018</a><br/>\n",
       "<a href=\"mpi_roof_2017b.zip\">ZIP-file 01.07.2017 to 31.12.2017</a><br/>\n",
       "<a href=\"mpi_roof_2017a.zip\">ZIP-file 01.01.2017 to 30.06.2017</a><br/>\n",
       "<a href=\"mpi_roof_2016b.zip\">ZIP-file 01.07.2016 to 31.12.2016</a><br/>\n",
       "<a href=\"mpi_roof_2016a.zip\">ZIP-file 01.01.2016 to 30.06.2016</a><br/>\n",
       "<a href=\"mpi_roof_2015b.zip\">ZIP-file 01.07.2015 to 31.12.2015</a><br/>\n",
       "<a href=\"mpi_roof_2015a.zip\">ZIP-file 01.01.2015 to 30.06.2015</a><br/>\n",
       "<a href=\"mpi_roof_2014b.zip\">ZIP-file 01.07.2014 to 31.12.2014</a><br/>\n",
       "<a href=\"mpi_roof_2014a.zip\">ZIP-file 01.01.2014 to 30.06.2014</a><br/>\n",
       "<a href=\"mpi_roof_2013b.zip\">ZIP-file 01.07.2013 to 31.12.2013</a><br/>\n",
       "<a href=\"mpi_roof_2013a.zip\">ZIP-file 01.01.2013 to 30.06.2013</a><br/>\n",
       "<a href=\"mpi_roof_2012b.zip\">ZIP-file 01.07.2012 to 31.12.2012</a><br/>\n",
       "<a href=\"mpi_roof_2012a.zip\">ZIP-file 01.01.2012 to 30.06.2012</a><br/>\n",
       "<a href=\"mpi_roof_2011b.zip\">ZIP-file 01.07.2011 to 31.12.2011</a><br/>\n",
       "<a href=\"mpi_roof_2011a.zip\">ZIP-file 01.01.2011 to 30.06.2011</a><br/>\n",
       "<a href=\"mpi_roof_2010b.zip\">ZIP-file 01.07.2010 to 31.12.2010</a><br/>\n",
       "<a href=\"mpi_roof_2010a.zip\">ZIP-file 01.01.2010 to 30.06.2010</a><br/>\n",
       "<a href=\"mpi_roof_2009b.zip\">ZIP-file 01.07.2009 to 31.12.2009</a><br/>\n",
       "<a href=\"mpi_roof_2009a.zip\">ZIP-file 01.01.2009 to 30.06.2009</a><br/>\n",
       "<a href=\"mpi_roof_2008b.zip\">ZIP-file 01.07.2008 to 31.12.2008</a><br/>\n",
       "<a href=\"mpi_roof_2008a.zip\">ZIP-file 01.01.2008 to 30.06.2008</a><br/>\n",
       "<a href=\"mpi_roof_2007b.zip\">ZIP-file 01.07.2007 to 31.12.2007</a><br/>\n",
       "<a href=\"mpi_roof_2007a.zip\">ZIP-file 01.01.2007 to 30.06.2007</a><br/>\n",
       "<a href=\"mpi_roof_2006b.zip\">ZIP-file 01.07.2006 to 31.12.2006</a><br/>\n",
       "<a href=\"mpi_roof_2006a.zip\">ZIP-file 01.01.2006 to 30.06.2006</a><br/>\n",
       "<a href=\"mpi_roof_2005b.zip\">ZIP-file 01.07.2005 to 31.12.2005</a><br/>\n",
       "<a href=\"mpi_roof_2005a.zip\">ZIP-file 01.01.2005 to 30.06.2005</a><br/>\n",
       "<a href=\"mpi_roof_2004b.zip\">ZIP-file 01.07.2004 to 31.12.2004</a><br/>\n",
       "<a href=\"mpi_roof_2004a.zip\">ZIP-file 01.01.2004 to 30.06.2004</a><br/>\n",
       "<a href=\"mpi_roof_2003b.zip\">ZIP-file 24.11.2003 to 31.12.2003</a><br/>\n",
       "</br></br></br></br></td>"
      ]
     },
     "execution_count": 11,
     "metadata": {},
     "output_type": "execute_result"
    }
   ],
   "source": [
    "files = soup.find('td',align='center', valign=\"top\" ) # find the table\n",
    "files"
   ]
  },
  {
   "cell_type": "code",
   "execution_count": 18,
   "metadata": {},
   "outputs": [
    {
     "name": "stdout",
     "output_type": "stream",
     "text": [
      "Download succesful mpi_roof.zip\n",
      "Download succesful mpi_roof_2023a.zip\n",
      "Download succesful mpi_roof_2022b.zip\n",
      "Download succesful mpi_roof_2022a.zip\n",
      "Download succesful mpi_roof_2021b.zip\n",
      "Download succesful mpi_roof_2021a.zip\n",
      "Download succesful mpi_roof_2020b.zip\n",
      "Download succesful mpi_roof_2020a.zip\n",
      "Download succesful mpi_roof_2019b.zip\n",
      "Download succesful mpi_roof_2019a.zip\n",
      "Download succesful mpi_roof_2018b.zip\n",
      "Download succesful mpi_roof_2018a.zip\n",
      "Download succesful mpi_roof_2017b.zip\n",
      "Download succesful mpi_roof_2017a.zip\n",
      "Download succesful mpi_roof_2016b.zip\n",
      "Download succesful mpi_roof_2016a.zip\n",
      "Download succesful mpi_roof_2015b.zip\n",
      "Download succesful mpi_roof_2015a.zip\n",
      "Download succesful mpi_roof_2014b.zip\n",
      "Download succesful mpi_roof_2014a.zip\n",
      "Download succesful mpi_roof_2013b.zip\n",
      "Download succesful mpi_roof_2013a.zip\n",
      "Download succesful mpi_roof_2012b.zip\n",
      "Download succesful mpi_roof_2012a.zip\n",
      "Download succesful mpi_roof_2011b.zip\n",
      "Download succesful mpi_roof_2011a.zip\n",
      "Download succesful mpi_roof_2010b.zip\n",
      "Download succesful mpi_roof_2010a.zip\n",
      "Download succesful mpi_roof_2009b.zip\n",
      "Download succesful mpi_roof_2009a.zip\n",
      "Download succesful mpi_roof_2008b.zip\n",
      "Download succesful mpi_roof_2008a.zip\n",
      "Download succesful mpi_roof_2007b.zip\n",
      "Download succesful mpi_roof_2007a.zip\n",
      "Download succesful mpi_roof_2006b.zip\n",
      "Download succesful mpi_roof_2006a.zip\n",
      "Download succesful mpi_roof_2005b.zip\n",
      "Download succesful mpi_roof_2005a.zip\n",
      "Download succesful mpi_roof_2004b.zip\n",
      "Download succesful mpi_roof_2004a.zip\n",
      "Download succesful mpi_roof_2003b.zip\n"
     ]
    }
   ],
   "source": [
    "for link in files.find_all('a'):\n",
    "    zip_url = 'https://www.bgc-jena.mpg.de/wetter/' + link.get('href')\n",
    "    zip_filename = zip_url.split(\"/\")[-1]\n",
    "    # Down file zip\n",
    "    try:\n",
    "        urllib.request.urlretrieve(zip_url, zip_filename) # download file\n",
    "        print(f\"Download succesful {zip_filename}\")\n",
    "    except Exception as e:\n",
    "        print(f\"Error {zip_url}: {str(e)}\")\n",
    "    "
   ]
  },
  {
   "cell_type": "markdown",
   "metadata": {},
   "source": [
    "- Afterward, move all files with the \".zip\" extension to a different folder for convenience in processing."
   ]
  },
  {
   "cell_type": "markdown",
   "metadata": {},
   "source": [
    "### <center>Extract zip file<center>"
   ]
  },
  {
   "cell_type": "markdown",
   "metadata": {},
   "source": [
    "- Write function extract zip"
   ]
  },
  {
   "cell_type": "code",
   "execution_count": 4,
   "metadata": {},
   "outputs": [],
   "source": [
    "import os\n",
    "import zipfile\n",
    "\n",
    "def extract_all_zips(folder_path):\n",
    "    if not os.path.exists(folder_path):\n",
    "        print(f\"Folder {folder_path} Error.\")\n",
    "        return\n",
    "    \n",
    "    files = os.listdir(folder_path)\n",
    "    \n",
    "    for file in files:\n",
    "        file_path = os.path.join(folder_path, file)\n",
    "        if os.path.isfile(file_path) and file.lower().endswith(\".zip\"):\n",
    "            try:\n",
    "                with zipfile.ZipFile(file_path, 'r') as zip_ref:\n",
    "                    zip_ref.extractall(folder_path)\n",
    "                print(f\"Extract succesfull {file}\")\n",
    "            except Exception as e:\n",
    "                print(f\"Extract error {file}: {str(e)}\")"
   ]
  },
  {
   "cell_type": "code",
   "execution_count": 5,
   "metadata": {},
   "outputs": [
    {
     "name": "stdout",
     "output_type": "stream",
     "text": [
      "Extract succesfull mpi_roof.zip\n",
      "Extract succesfull mpi_roof_2003b.zip\n",
      "Extract succesfull mpi_roof_2004a.zip\n",
      "Extract succesfull mpi_roof_2004b.zip\n",
      "Extract succesfull mpi_roof_2005a.zip\n",
      "Extract succesfull mpi_roof_2005b.zip\n",
      "Extract succesfull mpi_roof_2006a.zip\n",
      "Extract succesfull mpi_roof_2006b.zip\n",
      "Extract succesfull mpi_roof_2007a.zip\n",
      "Extract succesfull mpi_roof_2007b.zip\n",
      "Extract succesfull mpi_roof_2008a.zip\n",
      "Extract succesfull mpi_roof_2008b.zip\n",
      "Extract succesfull mpi_roof_2009a.zip\n",
      "Extract succesfull mpi_roof_2009b.zip\n",
      "Extract succesfull mpi_roof_2010a.zip\n",
      "Extract succesfull mpi_roof_2010b.zip\n",
      "Extract succesfull mpi_roof_2011a.zip\n",
      "Extract succesfull mpi_roof_2011b.zip\n",
      "Extract succesfull mpi_roof_2012a.zip\n",
      "Extract succesfull mpi_roof_2012b.zip\n",
      "Extract succesfull mpi_roof_2013a.zip\n",
      "Extract succesfull mpi_roof_2013b.zip\n",
      "Extract succesfull mpi_roof_2014a.zip\n",
      "Extract succesfull mpi_roof_2014b.zip\n",
      "Extract succesfull mpi_roof_2015a.zip\n",
      "Extract succesfull mpi_roof_2015b.zip\n",
      "Extract succesfull mpi_roof_2016a.zip\n",
      "Extract succesfull mpi_roof_2016b.zip\n",
      "Extract succesfull mpi_roof_2017a.zip\n",
      "Extract succesfull mpi_roof_2017b.zip\n",
      "Extract succesfull mpi_roof_2018a.zip\n",
      "Extract succesfull mpi_roof_2018b.zip\n",
      "Extract succesfull mpi_roof_2019a.zip\n",
      "Extract succesfull mpi_roof_2019b.zip\n",
      "Extract succesfull mpi_roof_2020a.zip\n",
      "Extract succesfull mpi_roof_2020b.zip\n",
      "Extract succesfull mpi_roof_2021a.zip\n",
      "Extract succesfull mpi_roof_2021b.zip\n",
      "Extract succesfull mpi_roof_2022a.zip\n",
      "Extract succesfull mpi_roof_2022b.zip\n",
      "Extract succesfull mpi_roof_2023a.zip\n"
     ]
    }
   ],
   "source": [
    "folder_path = \"../data_WH/Crawl-Weather-Dataset-And-Cleaning/Data_craw\" # path to folder contain zip files\n",
    "extract_all_zips(folder_path)  # extract all zip files in folder"
   ]
  },
  {
   "cell_type": "markdown",
   "metadata": {},
   "source": [
    "### <center> Merger file csv <center>"
   ]
  },
  {
   "cell_type": "code",
   "execution_count": null,
   "metadata": {},
   "outputs": [],
   "source": [
    "folder_path_csv = \"../Crawl-Weather-Dataset-And-Cleaning/Data_craw/Crawl-Weather-Dataset-And-Cleaning/Weather_Dataset_2013_2023.csv\"\n",
    "# Get a list of CSV files and sort them by file name\n",
    "file_list = sorted(os.listdir(folder_path_csv))\n",
    "\n",
    "# Initialize an empty DataFrame to store weather forecast data\n",
    "weather_data = pd.DataFrame()\n",
    "# Loop through the files in the sorted order\n",
    "for file_name in file_list:\n",
    "    if file_name.endswith(\".csv\"):\n",
    "        file_path = os.path.join(folder_path_csv, file_name)\n",
    "        \n",
    "        # Read the CSV file and append the data to the DataFrame\n",
    "        df = pd.read_csv(file_path, encoding='latin1', skiprows=1)  # Skip the first row\n",
    "        weather_data = pd.concat([weather_data, df])\n",
    "\n",
    "# Save the DataFrame as a merged CSV file\n",
    "merged_file_path = \"E:/Studying/Tiểu luận chuyên ngành/data_WH/Crawl-Weather-Dataset-And-Cleaning/merged_weather_data_2020-2023.csv\"\n",
    "weather_data.to_csv(merged_file_path, index=False)\n",
    "\n",
    "print(\"Data merged successfully.\")"
   ]
  }
 ],
 "metadata": {
  "kernelspec": {
   "display_name": "Python 3",
   "language": "python",
   "name": "python3"
  },
  "language_info": {
   "codemirror_mode": {
    "name": "ipython",
    "version": 3
   },
   "file_extension": ".py",
   "mimetype": "text/x-python",
   "name": "python",
   "nbconvert_exporter": "python",
   "pygments_lexer": "ipython3",
   "version": "3.12.0"
  }
 },
 "nbformat": 4,
 "nbformat_minor": 2
}
